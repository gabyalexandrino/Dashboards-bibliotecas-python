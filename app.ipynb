{
 "cells": [
  {
   "cell_type": "markdown",
   "id": "9b5b6712",
   "metadata": {},
   "source": [
    "para rodar o .py:  \n",
    "cria arquivo .py  \n",
    "salva  \n",
    "na hora de rodar coloca no terminal: python app.py  \n",
    "vai iniciar um mini servidor flask"
   ]
  },
  {
   "cell_type": "code",
   "execution_count": 5,
   "id": "302b335d",
   "metadata": {},
   "outputs": [],
   "source": [
    "# import dash\n",
    "# from dash import html, dcc\n",
    "# import plotly.express as px\n",
    "# import pandas as pd\n",
    "\n",
    "# df = pd.DataFrame({\n",
    "#     \"Mês\":    ['Jan','Fev','Mar','Abr','Mai'],\n",
    "#     \"Vendas\": [100, 120, 50, 200, 180]\n",
    "# })\n",
    "\n",
    "# fig = px.line(df, x=\"Mês\", y=\"Vendas\")\n",
    "\n",
    "# app = dash.Dash(__name__)\n",
    "\n",
    "# app.layout = html.Div([\n",
    "#     html.H1('Dashboard de vendas', \n",
    "#             style={'text-align': 'center'}),\n",
    "#     dcc.Graph(figure=fig)\n",
    "# ])\n",
    "\n",
    "# if __name__ == '__main__':\n",
    "#     app.run()\n"
   ]
  },
  {
   "cell_type": "code",
   "execution_count": 7,
   "id": "19d9444e",
   "metadata": {},
   "outputs": [
    {
     "data": {
      "text/html": [
       "\n",
       "        <iframe\n",
       "            width=\"100%\"\n",
       "            height=\"650\"\n",
       "            src=\"http://127.0.0.1:8051/\"\n",
       "            frameborder=\"0\"\n",
       "            allowfullscreen\n",
       "            \n",
       "        ></iframe>\n",
       "        "
      ],
      "text/plain": [
       "<IPython.lib.display.IFrame at 0x183a01b7590>"
      ]
     },
     "metadata": {},
     "output_type": "display_data"
    }
   ],
   "source": [
    "import dash\n",
    "from dash import dcc, html, Input, Output\n",
    "import plotly.express as px\n",
    "import pandas as pd\n",
    "\n",
    "df = pd.DataFrame({\n",
    "    \"Cidade\": [\"São Paulo\", \"Rio\", \"Fortaleza\", \"São Paulo\", \"Rio\", \"Fortaleza\"],\n",
    "    \"Mês\": [\"Jan\", \"Jan\", \"Jan\", \"Fev\", \"Fev\", \"Fev\"],\n",
    "    \"Vendas\": [100, 80, 70, 120, 90, 1000]\n",
    "})\n",
    "\n",
    "app = dash.Dash(__name__)\n",
    "\n",
    "app.layout = html.Div([\n",
    "    html.H1(\"Dashboard Interativo de Vendas\"),\n",
    "\n",
    "    html.Label(\"Escolha a cidade:\"),\n",
    "    dcc.Dropdown(\n",
    "        id=\"dropdown-cidade\",\n",
    "        options=[{\"label\": c, \"value\": c} for c in df[\"Cidade\"].unique()],\n",
    "        value=\"São Paulo\"\n",
    "    ),\n",
    "\n",
    "    dcc.Graph(id=\"grafico-vendas\")\n",
    "])\n",
    "\n",
    "@app.callback(\n",
    "    Output(\"grafico-vendas\", \"figure\"),\n",
    "    Input(\"dropdown-cidade\", \"value\")\n",
    ")\n",
    "def atualizar_grafico(cidade_selecionada):\n",
    "    df_filtrado = df[df[\"Cidade\"] == cidade_selecionada]\n",
    "    fig = px.bar(df_filtrado, x=\"Mês\", y=\"Vendas\", title=f\"Vendas em {cidade_selecionada}\")\n",
    "    return fig\n",
    "\n",
    "if __name__ == '__main__':\n",
    "    app.run(port=8051, debug=True)"
   ]
  }
 ],
 "metadata": {
  "kernelspec": {
   "display_name": "unifor",
   "language": "python",
   "name": "python3"
  },
  "language_info": {
   "codemirror_mode": {
    "name": "ipython",
    "version": 3
   },
   "file_extension": ".py",
   "mimetype": "text/x-python",
   "name": "python",
   "nbconvert_exporter": "python",
   "pygments_lexer": "ipython3",
   "version": "3.12.4"
  }
 },
 "nbformat": 4,
 "nbformat_minor": 5
}
